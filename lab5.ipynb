{
 "cells": [
  {
   "cell_type": "code",
   "execution_count": 71,
   "metadata": {},
   "outputs": [],
   "source": [
    "echo \"I have a secret\" > plaintext.txt"
   ]
  },
  {
   "cell_type": "code",
   "execution_count": 72,
   "metadata": {},
   "outputs": [
    {
     "name": "stdout",
     "output_type": "stream",
     "text": [
      "{\n",
      "    \"Keys\": [\n",
      "        {\n",
      "            \"KeyId\": \"17b221af-0d0b-4810-87e0-cd932872b1fb\",\n",
      "            \"KeyArn\": \"arn:aws:kms:ap-northeast-1:696544121619:key/17b221af-0d0b-4810-87e0-cd932872b1fb\"\n",
      "        },\n",
      "        {\n",
      "            \"KeyId\": \"32a894d9-5016-46d0-b863-f653119697e2\",\n",
      "            \"KeyArn\": \"arn:aws:kms:ap-northeast-1:696544121619:key/32a894d9-5016-46d0-b863-f653119697e2\"\n",
      "        },\n",
      "        {\n",
      "            \"KeyId\": \"40887eff-f484-44e0-a45d-ba76c576c9bf\",\n",
      "            \"KeyArn\": \"arn:aws:kms:ap-northeast-1:696544121619:key/40887eff-f484-44e0-a45d-ba76c576c9bf\"\n",
      "        },\n",
      "        {\n",
      "            \"KeyId\": \"8c35541b-b7a2-4f98-b2a7-6d6289661550\",\n",
      "            \"KeyArn\": \"arn:aws:kms:ap-northeast-1:696544121619:key/8c35541b-b7a2-4f98-b2a7-6d6289661550\"\n",
      "        },\n",
      "        {\n",
      "            \"KeyId\": \"9a3430bd-36d2-45a6-aa84-dc87c368f6ec\",\n",
      "            \"KeyArn\": \"arn:aws:kms:ap-northeast-1:696544121619:key/9a3430bd-36d2-45a6-aa84-dc87c368f6ec\"\n",
      "        },\n",
      "        {\n",
      "            \"KeyId\": \"a7db32a5-7d03-45e7-b15d-4f23c8b40108\",\n",
      "            \"KeyArn\": \"arn:aws:kms:ap-northeast-1:696544121619:key/a7db32a5-7d03-45e7-b15d-4f23c8b40108\"\n",
      "        },\n",
      "        {\n",
      "            \"KeyId\": \"e871bd4f-4779-4aad-b69a-186414ca28f1\",\n",
      "            \"KeyArn\": \"arn:aws:kms:ap-northeast-1:696544121619:key/e871bd4f-4779-4aad-b69a-186414ca28f1\"\n",
      "        }\n",
      "    ]\n",
      "}\n"
     ]
    }
   ],
   "source": [
    "aws kms list-keys"
   ]
  },
  {
   "cell_type": "code",
   "execution_count": 73,
   "metadata": {},
   "outputs": [],
   "source": [
    "keyid=e871bd4f-4779-4aad-b69a-186414ca28f1"
   ]
  },
  {
   "cell_type": "code",
   "execution_count": 74,
   "metadata": {},
   "outputs": [
    {
     "name": "stdout",
     "output_type": "stream",
     "text": [
      "{\n",
      "    \"CiphertextBlob\": \"AQIDAHi1IgEEQK830+lL+fs39JI3mBXInPv1H5hoBIVC498W9wEWfVVhmRnVSIQmnCTqT3WKAAAAfjB8BgkqhkiG9w0BBwagbzBtAgEAMGgGCSqGSIb3DQEHATAeBglghkgBZQMEAS4wEQQMQgMIOohpoubnlukaAgEQgDsnx3rPIOYqVOmvzkP9PH0RGANY3SIUImBA7p4bhvJhgCBqbPG2xCqMLSUGPZDkNe5uI0xFakdtTo2ZVA==\",\n",
      "    \"Plaintext\": \"ApQXyEJXbEx6VIf8JU+9e/DHEGdSQHmImDm851VDq/I=\",\n",
      "    \"KeyId\": \"arn:aws:kms:ap-northeast-1:696544121619:key/e871bd4f-4779-4aad-b69a-186414ca28f1\"\n",
      "}\n"
     ]
    }
   ],
   "source": [
    "aws kms generate-data-key \\\n",
    "--key-id $keyid \\\n",
    "--key-spec AES_256"
   ]
  },
  {
   "cell_type": "code",
   "execution_count": 75,
   "metadata": {},
   "outputs": [],
   "source": [
    "keys=($(aws kms generate-data-key \\\n",
    "--key-id $keyid \\\n",
    "--key-spec AES_256 \\\n",
    "--query [Plaintext,CiphertextBlob] --output text))"
   ]
  },
  {
   "cell_type": "code",
   "execution_count": 76,
   "metadata": {},
   "outputs": [
    {
     "name": "stdout",
     "output_type": "stream",
     "text": [
      "RKbk9g9nM6eng+KTqFa+949Ky/KX7V+0XBZEqVgI1Ww=\n"
     ]
    }
   ],
   "source": [
    "echo ${keys[0]}"
   ]
  },
  {
   "cell_type": "code",
   "execution_count": 77,
   "metadata": {},
   "outputs": [
    {
     "name": "stdout",
     "output_type": "stream",
     "text": [
      "AQIDAHi1IgEEQK830+lL+fs39JI3mBXInPv1H5hoBIVC498W9wGSR+Z7T4QtEgmNTIStzyHDAAAAfjB8BgkqhkiG9w0BBwagbzBtAgEAMGgGCSqGSIb3DQEHATAeBglghkgBZQMEAS4wEQQMtQYvN3f92HeYOw9vAgEQgDuUvtWfHMUxW5bu7tJ+pL3Yv6/GfF0yiEdLTRhTenaHQhLcv4wcgQ+t/TIs4QOwc1y6q6Is9ALKjGUJKQ==\n"
     ]
    }
   ],
   "source": [
    "echo ${keys[1]}"
   ]
  },
  {
   "cell_type": "code",
   "execution_count": 78,
   "metadata": {},
   "outputs": [],
   "source": [
    "key=$(echo -n ${keys[0]} | base64 --decode \\\n",
    "| hexdump -v -e '/1 \"%02X\"')"
   ]
  },
  {
   "cell_type": "code",
   "execution_count": 79,
   "metadata": {},
   "outputs": [
    {
     "name": "stdout",
     "output_type": "stream",
     "text": [
      "44A6E4F60F6733A7A783E293A856BEF78F4ACBF297ED5FB45C1644A95808D56C\n"
     ]
    }
   ],
   "source": [
    "echo $key"
   ]
  },
  {
   "cell_type": "code",
   "execution_count": 80,
   "metadata": {},
   "outputs": [
    {
     "name": "stdout",
     "output_type": "stream",
     "text": [
      "{\n",
      "    \"Plaintext\": \"c7vEm0bfFaceje5w1Ps4+A==\"\n",
      "}\n"
     ]
    }
   ],
   "source": [
    "aws kms generate-random --number-of-bytes 16"
   ]
  },
  {
   "cell_type": "code",
   "execution_count": 81,
   "metadata": {},
   "outputs": [],
   "source": [
    "iv=$(aws kms generate-random \\\n",
    "--number-of-bytes 16 \\\n",
    "--query Plaintext --output text | \\\n",
    "base64 --decode | \\\n",
    "hexdump -v -e '/1 \"%02X\"')"
   ]
  },
  {
   "cell_type": "code",
   "execution_count": 82,
   "metadata": {},
   "outputs": [
    {
     "name": "stdout",
     "output_type": "stream",
     "text": [
      "BFC3A2E63F8E8A6D65C40755B123BBDB\n"
     ]
    }
   ],
   "source": [
    "echo $iv"
   ]
  },
  {
   "cell_type": "code",
   "execution_count": 83,
   "metadata": {},
   "outputs": [],
   "source": [
    "echo \"Encrypted data key: ${keys[1]}\" > encrypted.txt"
   ]
  },
  {
   "cell_type": "code",
   "execution_count": 84,
   "metadata": {},
   "outputs": [],
   "source": [
    "echo \"Initialization vector: ${iv}\" >> encrypted.txt"
   ]
  },
  {
   "cell_type": "code",
   "execution_count": 85,
   "metadata": {},
   "outputs": [],
   "source": [
    "openssl aes-256-cbc -iv $iv -K $key \\\n",
    "-in plaintext.txt -base64 >> encrypted.txt"
   ]
  },
  {
   "cell_type": "code",
   "execution_count": 86,
   "metadata": {},
   "outputs": [
    {
     "name": "stdout",
     "output_type": "stream",
     "text": [
      "Encrypted data key: AQIDAHi1IgEEQK830+lL+fs39JI3mBXInPv1H5hoBIVC498W9wGSR+Z7T4QtEgmNTIStzyHDAAAAfjB8BgkqhkiG9w0BBwagbzBtAgEAMGgGCSqGSIb3DQEHATAeBglghkgBZQMEAS4wEQQMtQYvN3f92HeYOw9vAgEQgDuUvtWfHMUxW5bu7tJ+pL3Yv6/GfF0yiEdLTRhTenaHQhLcv4wcgQ+t/TIs4QOwc1y6q6Is9ALKjGUJKQ==\n",
      "Initialization vector: BFC3A2E63F8E8A6D65C40755B123BBDB\n",
      "BNNku0EO/Z//NB3YHuS9E64s6X+CbjqgYJADw0MHKfc=\n"
     ]
    }
   ],
   "source": [
    "cat encrypted.txt"
   ]
  },
  {
   "cell_type": "code",
   "execution_count": 87,
   "metadata": {},
   "outputs": [],
   "source": [
    "cd message"
   ]
  },
  {
   "cell_type": "code",
   "execution_count": 88,
   "metadata": {},
   "outputs": [
    {
     "name": "stdout",
     "output_type": "stream",
     "text": [
      "{\n",
      "    \"KeyId\": \"arn:aws:kms:ap-northeast-1:696544121619:key/e871bd4f-4779-4aad-b69a-186414ca28f1\",\n",
      "    \"Plaintext\": \"tYl4va0/5OC1cFTjWPN3WPfmhf9WbKWP8XlQi66BlTQ=\"\n",
      "}\n"
     ]
    }
   ],
   "source": [
    "aws kms decrypt \\\n",
    "--ciphertext-blob fileb://data_key_encrypted.bin"
   ]
  },
  {
   "cell_type": "code",
   "execution_count": 89,
   "metadata": {},
   "outputs": [],
   "source": [
    "key=$(aws kms decrypt \\\n",
    "--ciphertext-blob fileb://data_key_encrypted.bin \\\n",
    "--query Plaintext --output text | \\\n",
    "base64 --decode | \\\n",
    "hexdump -v -e '/1 \"%02X\"')"
   ]
  },
  {
   "cell_type": "code",
   "execution_count": 90,
   "metadata": {},
   "outputs": [
    {
     "name": "stdout",
     "output_type": "stream",
     "text": [
      "B58978BDAD3FE4E0B57054E358F37758F7E685FF566CA58FF179508BAE819534\n"
     ]
    }
   ],
   "source": [
    "echo $key"
   ]
  },
  {
   "cell_type": "code",
   "execution_count": 91,
   "metadata": {},
   "outputs": [],
   "source": [
    "iv=$(cat iv_hex.txt)"
   ]
  },
  {
   "cell_type": "code",
   "execution_count": 92,
   "metadata": {},
   "outputs": [
    {
     "name": "stdout",
     "output_type": "stream",
     "text": [
      " ______________\n",
      "< Hello World! >\n",
      " --------------\n",
      "   \\\n",
      "    \\\n",
      "        .--.\n",
      "       |o_o |\n",
      "       |:_/ |\n",
      "      //   \\ \\\n",
      "     (|     | )\n",
      "    /'\\_   _/`\\\n",
      "    \\___)=(___/\n",
      "\n"
     ]
    }
   ],
   "source": [
    "openssl aes-256-cbc -d \\\n",
    "-in message_encrypted_base64.txt \\\n",
    "-iv $iv -K $key -base64"
   ]
  },
  {
   "cell_type": "code",
   "execution_count": 93,
   "metadata": {},
   "outputs": [],
   "source": [
    "unset iv\n",
    "unset key"
   ]
  },
  {
   "cell_type": "markdown",
   "metadata": {},
   "source": [
    "# オプションの課題 1"
   ]
  },
  {
   "cell_type": "code",
   "execution_count": 94,
   "metadata": {},
   "outputs": [],
   "source": [
    "cd .."
   ]
  },
  {
   "cell_type": "code",
   "execution_count": 95,
   "metadata": {},
   "outputs": [
    {
     "name": "stdout",
     "output_type": "stream",
     "text": [
      "Encrypted data key: AQIDAHi1IgEEQK830+lL+fs39JI3mBXInPv1H5hoBIVC498W9wGSR+Z7T4QtEgmNTIStzyHDAAAAfjB8BgkqhkiG9w0BBwagbzBtAgEAMGgGCSqGSIb3DQEHATAeBglghkgBZQMEAS4wEQQMtQYvN3f92HeYOw9vAgEQgDuUvtWfHMUxW5bu7tJ+pL3Yv6/GfF0yiEdLTRhTenaHQhLcv4wcgQ+t/TIs4QOwc1y6q6Is9ALKjGUJKQ==\n",
      "Initialization vector: BFC3A2E63F8E8A6D65C40755B123BBDB\n",
      "BNNku0EO/Z//NB3YHuS9E64s6X+CbjqgYJADw0MHKfc=\n"
     ]
    }
   ],
   "source": [
    "cat encrypted.txt"
   ]
  },
  {
   "cell_type": "code",
   "execution_count": 96,
   "metadata": {},
   "outputs": [],
   "source": [
    "# encrypted.txt の内容を変数に代入する\n",
    "encrypted_key='AQIDAHi1IgEEQK830+lL+fs39JI3mBXInPv1H5hoBIVC498W9wHlrc4re/lwMVIVYWUspLziAAAAfjB8BgkqhkiG9w0BBwagbzBtAgEAMGgGCSqGSIb3DQEHATAeBglghkgBZQMEAS4wEQQMZSIa+XpaufeFgaq4AgEQgDtjoHMR+BKaf84hWHSh5ifXR5jzPiQcPUA7DkoZB4HY2AVvdIx8rcFaGebCwz9k9B2Xuwxv+NKbCKBw0w=='\n",
    "iv='AEB03F5F6884558A604A948D9DA627A1'\n",
    "encrypted_text='4N9IfotdCn/qVSjfmTaA0lK1/xwkoOnG6H6aT8Qd2ms='"
   ]
  },
  {
   "cell_type": "code",
   "execution_count": 97,
   "metadata": {},
   "outputs": [],
   "source": [
    "# 暗号化キーをbase64デコードする(バイナリに戻す)\n",
    "echo $encrypted_key | base64 --decode > key.bin"
   ]
  },
  {
   "cell_type": "code",
   "execution_count": 98,
   "metadata": {},
   "outputs": [
    {
     "name": "stdout",
     "output_type": "stream",
     "text": [
      "-rw-r--r-- 1 root root 184 Nov 13 07:24 key.bin\n"
     ]
    }
   ],
   "source": [
    "# 生成された暗号化キーファイルを確認\n",
    "ls -l key.bin"
   ]
  },
  {
   "cell_type": "code",
   "execution_count": 99,
   "metadata": {},
   "outputs": [
    {
     "name": "stdout",
     "output_type": "stream",
     "text": [
      "{\n",
      "    \"KeyId\": \"arn:aws:kms:ap-northeast-1:696544121619:key/e871bd4f-4779-4aad-b69a-186414ca28f1\",\n",
      "    \"Plaintext\": \"+FjsTFqSGbHLmgV9LP7aNg4SQuN21VYwZN/UsmUOkZo=\"\n",
      "}\n"
     ]
    }
   ],
   "source": [
    "# KMSで暗号化キーを復号する\n",
    "aws kms decrypt --ciphertext-blob fileb://key.bin"
   ]
  },
  {
   "cell_type": "code",
   "execution_count": 103,
   "metadata": {},
   "outputs": [],
   "source": [
    "# 暗号化キーを復号し、OpenSSLで利用できる形式に変換し、key 変数に入れる\n",
    "key=$(aws kms decrypt --ciphertext-blob fileb://key.bin \\\n",
    "--query 'Plaintext' --output text \\\n",
    "| base64 --decode |hexdump -v -e '/1 \"%02X\"')"
   ]
  },
  {
   "cell_type": "code",
   "execution_count": 104,
   "metadata": {},
   "outputs": [
    {
     "name": "stdout",
     "output_type": "stream",
     "text": [
      "F858EC4C5A9219B1CB9A057D2CFEDA360E1242E376D5563064DFD4B2650E919A\n"
     ]
    }
   ],
   "source": [
    "# 復号されたキーを確認\n",
    "echo $key"
   ]
  },
  {
   "cell_type": "code",
   "execution_count": 105,
   "metadata": {},
   "outputs": [
    {
     "name": "stdout",
     "output_type": "stream",
     "text": [
      "I have a secret\n"
     ]
    }
   ],
   "source": [
    "# OpenSSLで復号を行う\n",
    "echo $encrypted | openssl aes-256-cbc -d \\\n",
    "-iv $iv -K $key -base64"
   ]
  }
 ],
 "metadata": {
  "kernelspec": {
   "display_name": "Bash",
   "language": "bash",
   "name": "bash"
  },
  "language_info": {
   "codemirror_mode": "shell",
   "file_extension": ".sh",
   "mimetype": "text/x-sh",
   "name": "bash"
  }
 },
 "nbformat": 4,
 "nbformat_minor": 4
}
